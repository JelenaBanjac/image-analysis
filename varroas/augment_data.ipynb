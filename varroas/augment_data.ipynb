{
 "cells": [
  {
   "cell_type": "markdown",
   "metadata": {},
   "source": [
    "# Read the Data We Got"
   ]
  },
  {
   "cell_type": "code",
   "execution_count": 1,
   "metadata": {},
   "outputs": [],
   "source": [
    "import skimage.io\n",
    "import matplotlib.pyplot as plt\n",
    "import matplotlib.patches as patches\n",
    "%matplotlib inline\n",
    "import shutil\n",
    "import os\n",
    "import numpy as np\n",
    "import xml.etree.ElementTree as ET\n",
    "import pathlib\n",
    "import cv2 as cv"
   ]
  },
  {
   "cell_type": "code",
   "execution_count": 2,
   "metadata": {},
   "outputs": [],
   "source": [
    "def parse_file(filename, compact=False):\n",
    "    \"\"\" Parse a PASCAL VOC xml file \"\"\"\n",
    "    tree = ET.parse(filename)\n",
    "    objects = []\n",
    "    for obj in tree.findall('object'):\n",
    "        obj_struct = {}\n",
    "        obj_struct['name'] = obj.find('name').text\n",
    "        bbox = obj.find('bndbox')\n",
    "        obj_struct['bbox'] = [int(float(bbox.find('xmin').text)),\n",
    "                              int(float(bbox.find('ymin').text)),\n",
    "                              int(float(bbox.find('xmax').text))-int(float(bbox.find('xmin').text)),\n",
    "                              int(float(bbox.find('ymax').text))-int(float(bbox.find('ymin').text))]\n",
    "        if not compact:\n",
    "            objects.append(obj_struct)\n",
    "        else:\n",
    "            objects.append(obj_struct['bbox'])\n",
    "\n",
    "    return objects"
   ]
  },
  {
   "cell_type": "code",
   "execution_count": 3,
   "metadata": {},
   "outputs": [],
   "source": [
    "# Plot images\n",
    "def plot_varroa_(i):\n",
    "    fig, ax = plt.subplots(1, 1, figsize=(12, 12))\n",
    "\n",
    "    im = skimage.io.imread(image_names[i])\n",
    "    for anno in annotations[i]:\n",
    "        rect = patches.Rectangle((anno[0], anno[1]), anno[2], anno[3], linewidth=1, edgecolor='r',facecolor='none')\n",
    "        ax.add_patch(rect)\n",
    "\n",
    "    ax.imshow(im)\n",
    "    ax.axis('off')\n",
    "    plt.show()"
   ]
  },
  {
   "cell_type": "code",
   "execution_count": 10,
   "metadata": {},
   "outputs": [],
   "source": [
    "def xywh2contour(rectangle):\n",
    "    x, y, w, h = tuple(rectangle)\n",
    "    contour = np.zeros((4,2))\n",
    "    contour[0,:] = [x, y]\n",
    "    contour[1,:] = [x+w, y]\n",
    "    contour[2,:] = [x+w, y+h]\n",
    "    contour[3,:] = [x, y+h]\n",
    "    contour = contour.reshape((4, 1, 2)).astype(np.int32)\n",
    "    return contour\n",
    "#xywh2contour([931, 1074, 24, 25])    "
   ]
  },
  {
   "cell_type": "code",
   "execution_count": 27,
   "metadata": {},
   "outputs": [
    {
     "data": {
      "text/plain": [
       "[931, 1074, 24, 25]"
      ]
     },
     "execution_count": 27,
     "metadata": {},
     "output_type": "execute_result"
    }
   ],
   "source": [
    "def contour2xywh(contour):\n",
    "    contour = contour\n",
    "    x, y = np.min(contour[:,0][:,0]), np.min(contour[:,0][:,1])\n",
    "    x_w, y_h = np.max(contour[:,0][:,0]), np.max(contour[:,0][:,1])\n",
    "\n",
    "    w = np.abs(x-x_w)\n",
    "    h = np.abs(y-y_h)\n",
    "    \n",
    "    return [x, y, w, h]\n",
    "\n",
    "x = xywh2contour([931, 1074, 24, 25])    \n",
    "contour2xywh(x)"
   ]
  },
  {
   "cell_type": "code",
   "execution_count": 5,
   "metadata": {},
   "outputs": [],
   "source": [
    "def prepare_images_and_masks(label, dataset_name):\n",
    "    ANNOTATIONS_PATH = os.path.join(ROOT_DIR, 'datasets', 'project-data', 'annotations', label)\n",
    "    IMAGES_PATH = os.path.join(ROOT_DIR, 'datasets', 'project-data', 'images', label)\n",
    "    REFERENCE_FILE = os.path.join(ROOT_DIR, 'datasets', 'project-data', f'{label}.txt')\n",
    "\n",
    "    with open(REFERENCE_FILE, 'r') as f:\n",
    "        ids = f.readlines()\n",
    "        \n",
    "    ids = [i.replace('\\n', '') for i in ids]\n",
    "    annotations = [parse_file(os.path.join(ANNOTATIONS_PATH, i) + '.xml', compact=True) for i in ids]\n",
    "    image_names = [os.path.join(IMAGES_PATH, i) + '.jpg' for i in ids]\n",
    "\n",
    "    pathlib.Path(f'datasets/{dataset_name}').mkdir(parents=True, exist_ok=True) \n",
    "    for i, token in enumerate(ids):\n",
    "        # create directories\n",
    "        pathlib.Path(f'datasets/{dataset_name}/{token}').mkdir(parents=True, exist_ok=True) \n",
    "        pathlib.Path(f'datasets/{dataset_name}/{token}/images').mkdir(parents=True, exist_ok=True) \n",
    "        pathlib.Path(f'datasets/{dataset_name}/{token}/masks').mkdir(parents=True, exist_ok=True) \n",
    "\n",
    "        # filling these directories with images\n",
    "        img = cv.imread(image_names[i], 0)\n",
    "        cv.imwrite(os.path.join(f'datasets/{dataset_name}/{token}/images' , f'{token}.jpg'), img)\n",
    "\n",
    "        # filling these directories with masks\n",
    "        blank = np.zeros(img.shape)\n",
    "        for j, anno in enumerate(annotations[i]):\n",
    "            cnt = xywh2contour(anno)\n",
    "            img_mask = cv.drawContours( blank.copy(), [xywh2contour(anno)], 0, (255,255,255) ,-1)\n",
    "            cv.imwrite(os.path.join(ROOT_DIR, f'datasets/{dataset_name}/{token}/masks' , f'{j}.jpg'), img_mask)\n",
    "\n",
    "        if len(annotations[i]) == 0:\n",
    "            cv.imwrite(os.path.join(ROOT_DIR, f'datasets/{dataset_name}/{token}/masks' , f'0.jpg'), blank)\n",
    "    "
   ]
  },
  {
   "cell_type": "code",
   "execution_count": 6,
   "metadata": {},
   "outputs": [],
   "source": [
    "ROOT_DIR = os.getcwd()"
   ]
  },
  {
   "cell_type": "markdown",
   "metadata": {},
   "source": [
    "## Dealing with Train Data"
   ]
  },
  {
   "cell_type": "code",
   "execution_count": 7,
   "metadata": {},
   "outputs": [
    {
     "ename": "KeyboardInterrupt",
     "evalue": "",
     "output_type": "error",
     "traceback": [
      "\u001b[0;31m---------------------------------------------------------------------------\u001b[0m",
      "\u001b[0;31mKeyboardInterrupt\u001b[0m                         Traceback (most recent call last)",
      "\u001b[0;32m<ipython-input-7-c4074a2501b4>\u001b[0m in \u001b[0;36m<module>\u001b[0;34m\u001b[0m\n\u001b[0;32m----> 1\u001b[0;31m \u001b[0mprepare_images_and_masks\u001b[0m\u001b[0;34m(\u001b[0m\u001b[0mlabel\u001b[0m\u001b[0;34m=\u001b[0m\u001b[0;34m'train'\u001b[0m\u001b[0;34m,\u001b[0m \u001b[0mdataset_name\u001b[0m\u001b[0;34m=\u001b[0m\u001b[0;34m'stage1_train'\u001b[0m\u001b[0;34m)\u001b[0m\u001b[0;34m\u001b[0m\u001b[0;34m\u001b[0m\u001b[0m\n\u001b[0m",
      "\u001b[0;32m<ipython-input-5-9c753cdc9d5a>\u001b[0m in \u001b[0;36mprepare_images_and_masks\u001b[0;34m(label, dataset_name)\u001b[0m\n\u001b[1;32m     27\u001b[0m             \u001b[0mcnt\u001b[0m \u001b[0;34m=\u001b[0m \u001b[0mxywh2contour\u001b[0m\u001b[0;34m(\u001b[0m\u001b[0manno\u001b[0m\u001b[0;34m)\u001b[0m\u001b[0;34m\u001b[0m\u001b[0;34m\u001b[0m\u001b[0m\n\u001b[1;32m     28\u001b[0m             \u001b[0mimg_mask\u001b[0m \u001b[0;34m=\u001b[0m \u001b[0mcv\u001b[0m\u001b[0;34m.\u001b[0m\u001b[0mdrawContours\u001b[0m\u001b[0;34m(\u001b[0m \u001b[0mblank\u001b[0m\u001b[0;34m.\u001b[0m\u001b[0mcopy\u001b[0m\u001b[0;34m(\u001b[0m\u001b[0;34m)\u001b[0m\u001b[0;34m,\u001b[0m \u001b[0;34m[\u001b[0m\u001b[0mxywh2contour\u001b[0m\u001b[0;34m(\u001b[0m\u001b[0manno\u001b[0m\u001b[0;34m)\u001b[0m\u001b[0;34m]\u001b[0m\u001b[0;34m,\u001b[0m \u001b[0;36m0\u001b[0m\u001b[0;34m,\u001b[0m \u001b[0;34m(\u001b[0m\u001b[0;36m255\u001b[0m\u001b[0;34m,\u001b[0m\u001b[0;36m255\u001b[0m\u001b[0;34m,\u001b[0m\u001b[0;36m255\u001b[0m\u001b[0;34m)\u001b[0m \u001b[0;34m,\u001b[0m\u001b[0;34m-\u001b[0m\u001b[0;36m1\u001b[0m\u001b[0;34m)\u001b[0m\u001b[0;34m\u001b[0m\u001b[0;34m\u001b[0m\u001b[0m\n\u001b[0;32m---> 29\u001b[0;31m             \u001b[0mcv\u001b[0m\u001b[0;34m.\u001b[0m\u001b[0mimwrite\u001b[0m\u001b[0;34m(\u001b[0m\u001b[0mos\u001b[0m\u001b[0;34m.\u001b[0m\u001b[0mpath\u001b[0m\u001b[0;34m.\u001b[0m\u001b[0mjoin\u001b[0m\u001b[0;34m(\u001b[0m\u001b[0mROOT_DIR\u001b[0m\u001b[0;34m,\u001b[0m \u001b[0;34mf'datasets/{dataset_name}/{token}/masks'\u001b[0m \u001b[0;34m,\u001b[0m \u001b[0;34mf'{j}.jpg'\u001b[0m\u001b[0;34m)\u001b[0m\u001b[0;34m,\u001b[0m \u001b[0mimg_mask\u001b[0m\u001b[0;34m)\u001b[0m\u001b[0;34m\u001b[0m\u001b[0;34m\u001b[0m\u001b[0m\n\u001b[0m\u001b[1;32m     30\u001b[0m \u001b[0;34m\u001b[0m\u001b[0m\n\u001b[1;32m     31\u001b[0m         \u001b[0;32mif\u001b[0m \u001b[0mlen\u001b[0m\u001b[0;34m(\u001b[0m\u001b[0mannotations\u001b[0m\u001b[0;34m[\u001b[0m\u001b[0mi\u001b[0m\u001b[0;34m]\u001b[0m\u001b[0;34m)\u001b[0m \u001b[0;34m==\u001b[0m \u001b[0;36m0\u001b[0m\u001b[0;34m:\u001b[0m\u001b[0;34m\u001b[0m\u001b[0;34m\u001b[0m\u001b[0m\n",
      "\u001b[0;31mKeyboardInterrupt\u001b[0m: "
     ]
    }
   ],
   "source": [
    "prepare_images_and_masks(label='train', dataset_name='stage1_train')"
   ]
  },
  {
   "cell_type": "code",
   "execution_count": 12,
   "metadata": {},
   "outputs": [],
   "source": [
    "# i = 4\n",
    "# print(f\"Images: {image_names[i]}\")\n",
    "# print(f\"Dataset called {ids[i]}\")\n",
    "# print(f'Number of varroas: {len(annotations[i])}')\n",
    "# print(f'Varroa in {annotations[i]}')\n",
    "# plot_varroa_(i)"
   ]
  },
  {
   "cell_type": "markdown",
   "metadata": {},
   "source": [
    "## Dealing with Test Data"
   ]
  },
  {
   "cell_type": "code",
   "execution_count": 8,
   "metadata": {},
   "outputs": [],
   "source": [
    "prepare_images_and_masks(label='test', dataset_name='stage1_test')"
   ]
  },
  {
   "cell_type": "markdown",
   "metadata": {},
   "source": [
    "## Dealing with Validation Data"
   ]
  },
  {
   "cell_type": "code",
   "execution_count": 9,
   "metadata": {},
   "outputs": [],
   "source": [
    "prepare_images_and_masks(label='validation', dataset_name='stage1_validation')"
   ]
  },
  {
   "cell_type": "code",
   "execution_count": null,
   "metadata": {},
   "outputs": [],
   "source": []
  }
 ],
 "metadata": {
  "kernelspec": {
   "display_name": "Python 3",
   "language": "python",
   "name": "python3"
  },
  "language_info": {
   "codemirror_mode": {
    "name": "ipython",
    "version": 3
   },
   "file_extension": ".py",
   "mimetype": "text/x-python",
   "name": "python",
   "nbconvert_exporter": "python",
   "pygments_lexer": "ipython3",
   "version": "3.6.7"
  }
 },
 "nbformat": 4,
 "nbformat_minor": 2
}
