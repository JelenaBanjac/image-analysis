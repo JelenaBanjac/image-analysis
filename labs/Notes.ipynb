{
 "cells": [
  {
   "cell_type": "markdown",
   "metadata": {},
   "source": [
    "# Notes"
   ]
  },
  {
   "cell_type": "code",
   "execution_count": 31,
   "metadata": {},
   "outputs": [],
   "source": [
    "\n",
    "\n",
    "# Feature extractor\n",
    "def extract_features(image, vector_size=2):\n",
    "    #image = imread(image_path, mode=\"RGB\")\n",
    "    try:\n",
    "        # Using KAZE, cause SIFT, ORB and other was moved to additional module\n",
    "        # which is adding addtional pain during install\n",
    "        alg = cv2.KAZE_create()\n",
    "        # Dinding image keypoints\n",
    "        kps = alg.detect(image)\n",
    "        # Getting first 32 of them. \n",
    "        # Number of keypoints is varies depend on image size and color pallet\n",
    "        # Sorting them based on keypoint response value(bigger is better)\n",
    "        kps = sorted(kps, key=lambda x: -x.response)[:vector_size]\n",
    "#         print(kps)\n",
    "        # computing descriptors vector\n",
    "        kps, dsc = alg.compute(image, kps)\n",
    "        # Flatten all of them in one big vector - our feature vector\n",
    "        dsc = dsc.flatten()\n",
    "#         print(dsc)\n",
    "        # Making descriptor of same size\n",
    "        # Descriptor vector size is 64\n",
    "        #needed_size = (vector_size * 64)\n",
    "#         print(dsc.size)\n",
    "#         if dsc.size < needed_size:\n",
    "#             # if we have less the 32 descriptors then just adding zeros at the\n",
    "#             # end of our feature vector\n",
    "#             dsc = np.concatenate([dsc, np.zeros(needed_size - dsc.size)])\n",
    "    except cv2.error as e:\n",
    "        print('Error: ', e)\n",
    "        return None\n",
    "\n",
    "    return dsc\n",
    "\n",
    "def batch_extractor(zeros_im, pickled_db_path=\"features.pck\"):\n",
    "    result = {}\n",
    "    for i, img in enumerate(zeros_im):\n",
    "        print('Extracting features from image %s' % i)\n",
    "        result[i] = extract_features(img)\n",
    "    return result\n",
    "    # saving all our feature vectors in pickled file\n",
    "#     with open(pickled_db_path, 'w') as fp:\n",
    "#         pickle.dump(result, fp)"
   ]
  },
  {
   "cell_type": "code",
   "execution_count": 36,
   "metadata": {},
   "outputs": [],
   "source": [
    "def cos_cdist(features1, features2):\n",
    "    v1 = features1.reshape(1, -1)\n",
    "    v2 = features2.reshape(1, -1)\n",
    "    \n",
    "    dist = scipy.spatial.distance.cdist(v1, v2, 'cosine').reshape(-1) \n",
    "#     nearest_ids = np.argsort(dist)[:topn].tolist()\n",
    "#     nearest_img_paths = self.names[nearest_ids].tolist()\n",
    "    \n",
    "    return dist"
   ]
  },
  {
   "cell_type": "code",
   "execution_count": 37,
   "metadata": {},
   "outputs": [],
   "source": [
    "images = list(zeros_im)+list(ones_im)\n",
    "\n",
    "result = {}\n",
    "for i, im in enumerate(images):\n",
    "    result[i] = extract_features(im)"
   ]
  },
  {
   "cell_type": "code",
   "execution_count": 38,
   "metadata": {},
   "outputs": [
    {
     "name": "stdout",
     "output_type": "stream",
     "text": [
      "0 1 [0.41942933]\n",
      "0 2 [0.20848785]\n",
      "0 3 [0.08819595]\n",
      "0 4 [0.03995231]\n",
      "0 5 [0.36377771]\n",
      "0 6 [0.48264366]\n",
      "0 7 [0.10168269]\n",
      "0 8 [0.49627749]\n",
      "0 9 [0.29483818]\n",
      "0 10 [0.38266644]\n",
      "0 11 [0.45930989]\n",
      "0 12 [0.44181378]\n",
      "0 13 [0.5339301]\n",
      "0 14 [0.0632452]\n",
      "0 15 [0.69089456]\n",
      "0 16 [0.43827255]\n",
      "0 17 [0.38009616]\n",
      "0 18 [0.47081325]\n",
      "0 19 [0.665733]\n",
      "1 0 [0.41942933]\n",
      "1 2 [0.41244371]\n",
      "1 3 [0.55340434]\n",
      "1 4 [0.52138085]\n",
      "1 5 [0.63142636]\n",
      "1 6 [0.7560375]\n",
      "1 7 [0.5132286]\n",
      "1 8 [0.69711158]\n",
      "1 9 [0.56697297]\n",
      "1 10 [0.68484575]\n",
      "1 11 [0.66807]\n",
      "1 12 [0.6671264]\n",
      "1 13 [0.65084303]\n",
      "1 14 [0.48305426]\n",
      "1 15 [0.79194636]\n",
      "1 16 [0.7025332]\n",
      "1 17 [0.68821805]\n",
      "1 18 [0.7126141]\n",
      "1 19 [0.72869229]\n",
      "2 0 [0.20848785]\n",
      "2 1 [0.41244371]\n",
      "2 3 [0.36283711]\n",
      "2 4 [0.30355528]\n",
      "2 5 [0.30840051]\n",
      "2 6 [0.65953547]\n",
      "2 7 [0.22452758]\n",
      "2 8 [0.64622686]\n",
      "2 9 [0.4911534]\n",
      "2 10 [0.60151664]\n",
      "2 11 [0.54572853]\n",
      "2 12 [0.60649976]\n",
      "2 13 [0.68207595]\n",
      "2 14 [0.31738136]\n",
      "2 15 [0.70780811]\n",
      "2 16 [0.62726496]\n",
      "2 17 [0.60209177]\n",
      "2 18 [0.61892078]\n",
      "2 19 [0.76610025]\n",
      "3 0 [0.08819595]\n",
      "3 1 [0.55340434]\n",
      "3 2 [0.36283711]\n",
      "3 4 [0.03087535]\n",
      "3 5 [0.38925036]\n",
      "3 6 [0.47639483]\n",
      "3 7 [0.18157861]\n",
      "3 8 [0.46812024]\n",
      "3 9 [0.21976581]\n",
      "3 10 [0.33227025]\n",
      "3 11 [0.49205186]\n",
      "3 12 [0.32255293]\n",
      "3 13 [0.48882251]\n",
      "3 14 [0.04939965]\n",
      "3 15 [0.76737463]\n",
      "3 16 [0.24951129]\n",
      "3 17 [0.32781433]\n",
      "3 18 [0.47623186]\n",
      "3 19 [0.55265723]\n",
      "4 0 [0.03995231]\n",
      "4 1 [0.52138085]\n",
      "4 2 [0.30355528]\n",
      "4 3 [0.03087535]\n",
      "4 5 [0.39543573]\n",
      "4 6 [0.46304264]\n",
      "4 7 [0.15524595]\n",
      "4 8 [0.48381498]\n",
      "4 9 [0.30149731]\n",
      "4 10 [0.35036559]\n",
      "4 11 [0.56348562]\n",
      "4 12 [0.45530081]\n",
      "4 13 [0.56408878]\n",
      "4 14 [0.06024067]\n",
      "4 15 [0.77959331]\n",
      "4 16 [0.40141313]\n",
      "4 17 [0.35138426]\n",
      "4 18 [0.53707312]\n",
      "4 19 [0.64402134]\n",
      "5 0 [0.36377771]\n",
      "5 1 [0.63142636]\n",
      "5 2 [0.30840051]\n",
      "5 3 [0.38925036]\n",
      "5 4 [0.39543573]\n",
      "5 6 [0.70295914]\n",
      "5 7 [0.18119035]\n",
      "5 8 [0.63181758]\n",
      "5 9 [0.38988408]\n",
      "5 10 [0.65377796]\n",
      "5 11 [0.53257319]\n",
      "5 12 [0.49723395]\n",
      "5 13 [0.65857862]\n",
      "5 14 [0.40653336]\n",
      "5 15 [0.70498148]\n",
      "5 16 [0.49724806]\n",
      "5 17 [0.65589348]\n",
      "5 18 [0.58954365]\n",
      "5 19 [0.64897355]\n",
      "6 0 [0.48264366]\n",
      "6 1 [0.7560375]\n",
      "6 2 [0.65953547]\n",
      "6 3 [0.47639483]\n",
      "6 4 [0.46304264]\n",
      "6 5 [0.70295914]\n",
      "6 7 [0.55914241]\n",
      "6 8 [0.66741416]\n",
      "6 9 [0.6869446]\n",
      "6 10 [0.35835765]\n",
      "6 11 [0.68217085]\n",
      "6 12 [0.55475489]\n",
      "6 13 [0.58101199]\n",
      "6 14 [0.52877721]\n",
      "6 15 [0.72673559]\n",
      "6 16 [0.60582859]\n",
      "6 17 [0.37501607]\n",
      "6 18 [0.60911182]\n",
      "6 19 [0.59680392]\n",
      "7 0 [0.10168269]\n",
      "7 1 [0.5132286]\n",
      "7 2 [0.22452758]\n",
      "7 3 [0.18157861]\n",
      "7 4 [0.15524595]\n",
      "7 5 [0.18119035]\n",
      "7 6 [0.55914241]\n",
      "7 8 [0.55299908]\n",
      "7 9 [0.30454377]\n",
      "7 10 [0.44966554]\n",
      "7 11 [0.35349306]\n",
      "7 12 [0.41302652]\n",
      "7 13 [0.55953069]\n",
      "7 14 [0.16486497]\n",
      "7 15 [0.56887154]\n",
      "7 16 [0.42668212]\n",
      "7 17 [0.44263778]\n",
      "7 18 [0.46140956]\n",
      "7 19 [0.65458975]\n",
      "8 0 [0.49627749]\n",
      "8 1 [0.69711158]\n",
      "8 2 [0.64622686]\n",
      "8 3 [0.46812024]\n",
      "8 4 [0.48381498]\n",
      "8 5 [0.63181758]\n",
      "8 6 [0.66741416]\n",
      "8 7 [0.55299908]\n",
      "8 9 [0.49727035]\n",
      "8 10 [0.68571293]\n",
      "8 11 [0.72463694]\n",
      "8 12 [0.60153281]\n",
      "8 13 [0.68125522]\n",
      "8 14 [0.48458378]\n",
      "8 15 [0.79319017]\n",
      "8 16 [0.56342142]\n",
      "8 17 [0.69241873]\n",
      "8 18 [0.67950276]\n",
      "8 19 [0.69621381]\n",
      "9 0 [0.29483818]\n",
      "9 1 [0.56697297]\n",
      "9 2 [0.4911534]\n",
      "9 3 [0.21976581]\n",
      "9 4 [0.30149731]\n",
      "9 5 [0.38988408]\n",
      "9 6 [0.6869446]\n",
      "9 7 [0.30454377]\n",
      "9 8 [0.49727035]\n",
      "9 10 [0.60509643]\n",
      "9 11 [0.47900963]\n",
      "9 12 [0.29422064]\n",
      "9 13 [0.51712468]\n",
      "9 14 [0.24036665]\n",
      "9 15 [0.64186832]\n",
      "9 16 [0.2454652]\n",
      "9 17 [0.6109527]\n",
      "9 18 [0.50515825]\n",
      "9 19 [0.43244087]\n",
      "10 0 [0.38266644]\n",
      "10 1 [0.68484575]\n",
      "10 2 [0.60151664]\n",
      "10 3 [0.33227025]\n",
      "10 4 [0.35036559]\n",
      "10 5 [0.65377796]\n",
      "10 6 [0.35835765]\n",
      "10 7 [0.44966554]\n",
      "10 8 [0.68571293]\n",
      "10 9 [0.60509643]\n",
      "10 11 [0.43137869]\n",
      "10 12 [0.42140692]\n",
      "10 13 [0.23582415]\n",
      "10 14 [0.32737186]\n",
      "10 15 [0.76645438]\n",
      "10 16 [0.44256708]\n",
      "10 17 [0.00761072]\n",
      "10 18 [0.4839502]\n",
      "10 19 [0.68723655]\n",
      "11 0 [0.45930989]\n",
      "11 1 [0.66807]\n",
      "11 2 [0.54572853]\n",
      "11 3 [0.49205186]\n",
      "11 4 [0.56348562]\n",
      "11 5 [0.53257319]\n",
      "11 6 [0.68217085]\n",
      "11 7 [0.35349306]\n",
      "11 8 [0.72463694]\n",
      "11 9 [0.47900963]\n",
      "11 10 [0.43137869]\n",
      "11 12 [0.27771908]\n",
      "11 13 [0.35844131]\n",
      "11 14 [0.37462991]\n",
      "11 15 [0.38285033]\n",
      "11 16 [0.36065776]\n",
      "11 17 [0.40784543]\n",
      "11 18 [0.19578975]\n",
      "11 19 [0.67131101]\n",
      "12 0 [0.44181378]\n",
      "12 1 [0.6671264]\n",
      "12 2 [0.60649976]\n",
      "12 3 [0.32255293]\n",
      "12 4 [0.45530081]\n",
      "12 5 [0.49723395]\n",
      "12 6 [0.55475489]\n",
      "12 7 [0.41302652]\n",
      "12 8 [0.60153281]\n",
      "12 9 [0.29422064]\n",
      "12 10 [0.42140692]\n",
      "12 11 [0.27771908]\n",
      "12 13 [0.28478773]\n",
      "12 14 [0.29423418]\n",
      "12 15 [0.6998035]\n",
      "12 16 [0.05250615]\n",
      "12 17 [0.40385083]\n",
      "12 18 [0.35838533]\n",
      "12 19 [0.43094562]\n",
      "13 0 [0.5339301]\n",
      "13 1 [0.65084303]\n",
      "13 2 [0.68207595]\n",
      "13 3 [0.48882251]\n",
      "13 4 [0.56408878]\n",
      "13 5 [0.65857862]\n",
      "13 6 [0.58101199]\n",
      "13 7 [0.55953069]\n",
      "13 8 [0.68125522]\n",
      "13 9 [0.51712468]\n",
      "13 10 [0.23582415]\n",
      "13 11 [0.35844131]\n",
      "13 12 [0.28478773]\n",
      "13 14 [0.42612852]\n",
      "13 15 [0.72827787]\n",
      "13 16 [0.30268216]\n",
      "13 17 [0.23217737]\n",
      "13 18 [0.37856539]\n",
      "13 19 [0.66651922]\n",
      "14 0 [0.0632452]\n",
      "14 1 [0.48305426]\n",
      "14 2 [0.31738136]\n",
      "14 3 [0.04939965]\n",
      "14 4 [0.06024067]\n",
      "14 5 [0.40653336]\n",
      "14 6 [0.52877721]\n",
      "14 7 [0.16486497]\n",
      "14 8 [0.48458378]\n",
      "14 9 [0.24036665]\n",
      "14 10 [0.32737186]\n",
      "14 11 [0.37462991]\n",
      "14 12 [0.29423418]\n",
      "14 13 [0.42612852]\n",
      "14 15 [0.73746088]\n",
      "14 16 [0.27202971]\n",
      "14 17 [0.3145795]\n",
      "14 18 [0.41064203]\n",
      "14 19 [0.6089191]\n",
      "15 0 [0.69089456]\n",
      "15 1 [0.79194636]\n",
      "15 2 [0.70780811]\n",
      "15 3 [0.76737463]\n",
      "15 4 [0.77959331]\n",
      "15 5 [0.70498148]\n",
      "15 6 [0.72673559]\n",
      "15 7 [0.56887154]\n",
      "15 8 [0.79319017]\n",
      "15 9 [0.64186832]\n",
      "15 10 [0.76645438]\n",
      "15 11 [0.38285033]\n",
      "15 12 [0.6998035]\n",
      "15 13 [0.72827787]\n",
      "15 14 [0.73746088]\n",
      "15 16 [0.73561097]\n",
      "15 17 [0.77130873]\n",
      "15 18 [0.51986689]\n",
      "15 19 [0.4308154]\n",
      "16 0 [0.43827255]\n",
      "16 1 [0.7025332]\n",
      "16 2 [0.62726496]\n",
      "16 3 [0.24951129]\n",
      "16 4 [0.40141313]\n",
      "16 5 [0.49724806]\n",
      "16 6 [0.60582859]\n",
      "16 7 [0.42668212]\n",
      "16 8 [0.56342142]\n",
      "16 9 [0.2454652]\n",
      "16 10 [0.44256708]\n",
      "16 11 [0.36065776]\n",
      "16 12 [0.05250615]\n",
      "16 13 [0.30268216]\n",
      "16 14 [0.27202971]\n",
      "16 15 [0.73561097]\n",
      "16 17 [0.42831813]\n",
      "16 18 [0.38164606]\n",
      "16 19 [0.42298736]\n",
      "17 0 [0.38009616]\n",
      "17 1 [0.68821805]\n",
      "17 2 [0.60209177]\n",
      "17 3 [0.32781433]\n",
      "17 4 [0.35138426]\n",
      "17 5 [0.65589348]\n",
      "17 6 [0.37501607]\n",
      "17 7 [0.44263778]\n",
      "17 8 [0.69241873]\n",
      "17 9 [0.6109527]\n",
      "17 10 [0.00761072]\n",
      "17 11 [0.40784543]\n",
      "17 12 [0.40385083]\n",
      "17 13 [0.23217737]\n",
      "17 14 [0.3145795]\n",
      "17 15 [0.77130873]\n",
      "17 16 [0.42831813]\n",
      "17 18 [0.46888844]\n",
      "17 19 [0.70457024]\n",
      "18 0 [0.47081325]\n",
      "18 1 [0.7126141]\n",
      "18 2 [0.61892078]\n",
      "18 3 [0.47623186]\n",
      "18 4 [0.53707312]\n",
      "18 5 [0.58954365]\n",
      "18 6 [0.60911182]\n",
      "18 7 [0.46140956]\n",
      "18 8 [0.67950276]\n",
      "18 9 [0.50515825]\n",
      "18 10 [0.4839502]\n",
      "18 11 [0.19578975]\n",
      "18 12 [0.35838533]\n",
      "18 13 [0.37856539]\n",
      "18 14 [0.41064203]\n",
      "18 15 [0.51986689]\n",
      "18 16 [0.38164606]\n",
      "18 17 [0.46888844]\n",
      "18 19 [0.65936484]\n",
      "19 0 [0.665733]\n",
      "19 1 [0.72869229]\n",
      "19 2 [0.76610025]\n",
      "19 3 [0.55265723]\n",
      "19 4 [0.64402134]\n",
      "19 5 [0.64897355]\n",
      "19 6 [0.59680392]\n",
      "19 7 [0.65458975]\n",
      "19 8 [0.69621381]\n",
      "19 9 [0.43244087]\n",
      "19 10 [0.68723655]\n",
      "19 11 [0.67131101]\n",
      "19 12 [0.43094562]\n",
      "19 13 [0.66651922]\n",
      "19 14 [0.6089191]\n",
      "19 15 [0.4308154]\n",
      "19 16 [0.42298736]\n",
      "19 17 [0.70457024]\n",
      "19 18 [0.65936484]\n"
     ]
    }
   ],
   "source": [
    "for i1, im1 in enumerate(images):\n",
    "    for i2, im2 in enumerate(images):\n",
    "        if i1 != i2:\n",
    "            dist = cos_cdist(result[i1], result[i2])\n",
    "            print(i1, i2, dist)\n",
    "        "
   ]
  },
  {
   "cell_type": "code",
   "execution_count": 6,
   "metadata": {},
   "outputs": [
    {
     "data": {
      "text/plain": [
       "128"
      ]
     },
     "execution_count": 6,
     "metadata": {},
     "output_type": "execute_result"
    }
   ],
   "source": [
    "len(extract_features(zeros_im[1]))"
   ]
  },
  {
   "cell_type": "code",
   "execution_count": 7,
   "metadata": {},
   "outputs": [
    {
     "data": {
      "text/plain": [
       "array([-2.17222422e-01, -3.04147929e-01,  2.17222422e-01,  3.04147929e-01,\n",
       "       -1.98051184e-01, -3.92094433e-01,  1.98057681e-01,  3.92167896e-01,\n",
       "       -3.22114723e-03, -1.08330296e-02,  3.22497892e-03,  1.11117614e-02,\n",
       "        3.16647711e-05, -3.85365965e-05,  3.44752552e-05,  4.87778416e-05,\n",
       "       -3.19391191e-02, -3.62332985e-02,  3.29697207e-02,  3.63488235e-02,\n",
       "       -1.56398211e-02, -6.52314425e-02,  1.67324260e-01,  2.31447875e-01,\n",
       "       -3.95445414e-02,  1.18696772e-01,  7.22782388e-02,  1.89576581e-01,\n",
       "       -1.94185618e-02,  2.90045291e-02,  2.41782926e-02,  3.60299200e-02,\n",
       "        1.27363170e-03,  7.01205980e-04,  1.41170144e-03,  9.66942636e-04,\n",
       "        1.16258487e-01, -3.91344391e-02,  1.79312736e-01,  9.85786244e-02,\n",
       "        3.28546646e-03, -2.05250923e-02,  1.51833281e-01,  2.48809546e-01,\n",
       "       -5.86095788e-02,  2.05150507e-02,  1.11813754e-01,  9.13263187e-02,\n",
       "        1.59741303e-05,  2.16729723e-06,  9.07082867e-04,  1.53215346e-03,\n",
       "        1.78029519e-02, -2.45794449e-02,  2.40015853e-02,  2.68697701e-02,\n",
       "        1.48276370e-02, -5.18023819e-02,  2.75483299e-02,  8.65608007e-02,\n",
       "       -1.48119088e-02, -2.67065931e-02,  2.83103343e-02,  3.90078202e-02,\n",
       "       -2.33495329e-03,  2.36190646e-03,  6.55610114e-03,  6.63178181e-03,\n",
       "       -2.09515309e-03,  2.63563753e-03,  2.25453847e-03,  2.72219582e-03,\n",
       "        1.57817209e-03,  1.94962206e-03,  1.78873993e-03,  2.10595108e-03,\n",
       "        1.94387394e-04,  1.92169115e-04,  2.88347690e-03,  2.85057141e-03,\n",
       "        1.01404088e-02, -2.14778725e-03,  1.72948577e-02,  1.19041046e-02,\n",
       "        2.77535971e-02,  5.90421408e-02,  8.50940421e-02,  1.16431877e-01,\n",
       "       -3.89319025e-02,  6.86145350e-02,  8.77821669e-02,  9.42204371e-02,\n",
       "       -7.74314441e-03,  1.53880473e-03,  9.35281441e-03,  5.15980320e-03,\n",
       "       -6.22688755e-02,  6.12891093e-02,  7.50182271e-02,  6.59516528e-02,\n",
       "        1.88257620e-02, -3.12544331e-02,  9.14015323e-02,  1.33282274e-01,\n",
       "        4.01693992e-02,  3.00852004e-02,  1.63744077e-01,  2.05064103e-01,\n",
       "        1.55479386e-01,  1.36456251e-01,  1.71288893e-01,  1.41876295e-01,\n",
       "       -1.14240050e-01,  1.23885937e-01,  1.14240050e-01,  1.23885937e-01,\n",
       "       -1.15584275e-02,  1.24382433e-02,  1.26585849e-02,  1.86502729e-02,\n",
       "        3.35611925e-02,  3.93465832e-02,  3.42565961e-02,  4.70150448e-02,\n",
       "        4.02292848e-01,  4.21361029e-01,  4.02332544e-01,  4.21483994e-01],\n",
       "      dtype=float32)"
      ]
     },
     "execution_count": 7,
     "metadata": {},
     "output_type": "execute_result"
    }
   ],
   "source": [
    "extract_features(zeros_im[1])"
   ]
  },
  {
   "cell_type": "code",
   "execution_count": 14,
   "metadata": {},
   "outputs": [],
   "source": [
    "class Matcher(object):\n",
    "\n",
    "    def __init__(self, result):\n",
    "        self.data = result\n",
    "        self.names = []\n",
    "        self.matrix = []\n",
    "        for k, v in self.data.items():\n",
    "            self.names.append(k)\n",
    "            self.matrix.append(v)\n",
    "        self.matrix = np.array(self.matrix)\n",
    "        self.names = np.array(self.names)\n",
    "\n",
    "    def cos_cdist(self, vector):\n",
    "        # getting cosine distance between search image and images database\n",
    "        v = vector.reshape(1, -1)\n",
    "        #print(v)\n",
    "        return scipy.spatial.distance.cdist(self.matrix, v, 'cosine').reshape(-1)\n",
    "\n",
    "    def match(self, img, topn=5):\n",
    "        features = extract_features(img)\n",
    "        img_distances = self.cos_cdist(features)\n",
    "        # getting top 5 records\n",
    "        nearest_ids = np.argsort(img_distances)[:topn].tolist()\n",
    "        nearest_img_paths = self.names[nearest_ids].tolist()\n",
    "\n",
    "        return nearest_img_paths, img_distances[nearest_ids].tolist()\n"
   ]
  },
  {
   "cell_type": "code",
   "execution_count": 17,
   "metadata": {
    "scrolled": true
   },
   "outputs": [
    {
     "name": "stdout",
     "output_type": "stream",
     "text": [
      "Extracting features from image 0\n",
      "Extracting features from image 1\n",
      "Extracting features from image 2\n",
      "Extracting features from image 3\n",
      "Query image ==========================================\n"
     ]
    },
    {
     "data": {
      "image/png": "[encoded data removed]",
      "text/plain": [
       "<Figure size 432x288 with 1 Axes>"
      ]
     },
     "metadata": {
      "needs_background": "light"
     },
     "output_type": "display_data"
    },
    {
     "name": "stdout",
     "output_type": "stream",
     "text": [
      "Result images ========================================\n",
      "Match 0.6173335598102229\n"
     ]
    },
    {
     "data": {
      "image/png": "[encoded data removed]",
      "text/plain": [
       "<Figure size 432x288 with 1 Axes>"
      ]
     },
     "metadata": {
      "needs_background": "light"
     },
     "output_type": "display_data"
    },
    {
     "name": "stdout",
     "output_type": "stream",
     "text": [
      "Match 0.5805706687357722\n"
     ]
    },
    {
     "data": {
      "image/png": "[encoded data removed]",
      "text/plain": [
       "<Figure size 432x288 with 1 Axes>"
      ]
     },
     "metadata": {
      "needs_background": "light"
     },
     "output_type": "display_data"
    },
    {
     "name": "stdout",
     "output_type": "stream",
     "text": [
      "Query image ==========================================\n"
     ]
    },
    {
     "data": {
      "image/png": "[encoded data removed]",
      "text/plain": [
       "<Figure size 432x288 with 1 Axes>"
      ]
     },
     "metadata": {
      "needs_background": "light"
     },
     "output_type": "display_data"
    },
    {
     "name": "stdout",
     "output_type": "stream",
     "text": [
      "Result images ========================================\n",
      "Match 0.9999999999999999\n"
     ]
    },
    {
     "data": {
      "image/png": "[encoded data removed]",
      "text/plain": [
       "<Figure size 432x288 with 1 Axes>"
      ]
     },
     "metadata": {
      "needs_background": "light"
     },
     "output_type": "display_data"
    },
    {
     "name": "stdout",
     "output_type": "stream",
     "text": [
      "Match 0.33192999931629974\n"
     ]
    },
    {
     "data": {
      "image/png": "[encoded data removed]",
      "text/plain": [
       "<Figure size 432x288 with 1 Axes>"
      ]
     },
     "metadata": {
      "needs_background": "light"
     },
     "output_type": "display_data"
    },
    {
     "name": "stdout",
     "output_type": "stream",
     "text": [
      "Query image ==========================================\n"
     ]
    },
    {
     "data": {
      "image/png": "[encoded data removed]",
      "text/plain": [
       "<Figure size 432x288 with 1 Axes>"
      ]
     },
     "metadata": {
      "needs_background": "light"
     },
     "output_type": "display_data"
    },
    {
     "name": "stdout",
     "output_type": "stream",
     "text": [
      "Result images ========================================\n",
      "Match 1.0\n"
     ]
    },
    {
     "data": {
      "image/png": "[encoded data removed]",
      "text/plain": [
       "<Figure size 432x288 with 1 Axes>"
      ]
     },
     "metadata": {
      "needs_background": "light"
     },
     "output_type": "display_data"
    },
    {
     "name": "stdout",
     "output_type": "stream",
     "text": [
      "Match 0.6173335598102229\n"
     ]
    },
    {
     "data": {
      "image/png": "[encoded data removed]",
      "text/plain": [
       "<Figure size 432x288 with 1 Axes>"
      ]
     },
     "metadata": {
      "needs_background": "light"
     },
     "output_type": "display_data"
    },
    {
     "name": "stdout",
     "output_type": "stream",
     "text": [
      "Query image ==========================================\n"
     ]
    },
    {
     "data": {
      "image/png": "[encoded data removed]",
      "text/plain": [
       "<Figure size 432x288 with 1 Axes>"
      ]
     },
     "metadata": {
      "needs_background": "light"
     },
     "output_type": "display_data"
    },
    {
     "name": "stdout",
     "output_type": "stream",
     "text": [
      "Result images ========================================\n",
      "Match 1.0\n"
     ]
    },
    {
     "data": {
      "image/png": "[encoded data removed]",
      "text/plain": [
       "<Figure size 432x288 with 1 Axes>"
      ]
     },
     "metadata": {
      "needs_background": "light"
     },
     "output_type": "display_data"
    },
    {
     "name": "stdout",
     "output_type": "stream",
     "text": [
      "Match 0.5686213127200012\n"
     ]
    },
    {
     "data": {
      "image/png": "[encoded data removed]",
      "text/plain": [
       "<Figure size 432x288 with 1 Axes>"
      ]
     },
     "metadata": {
      "needs_background": "light"
     },
     "output_type": "display_data"
    },
    {
     "name": "stdout",
     "output_type": "stream",
     "text": [
      "Match 0.5406901126618617\n"
     ]
    },
    {
     "data": {
      "image/png": "[encoded data removed]",
      "text/plain": [
       "<Figure size 432x288 with 1 Axes>"
      ]
     },
     "metadata": {
      "needs_background": "light"
     },
     "output_type": "display_data"
    }
   ],
   "source": [
    "    \n",
    "def run():\n",
    "    #images_path = 'resources/images/'\n",
    "    #files = [os.path.join(images_path, p) for p in sorted(os.listdir(images_path))]\n",
    "    # getting 3 random images \n",
    "    #sample = random.sample(files, 3)\n",
    "    images = list(zeros_im[:2])+list(ones_im[:2])\n",
    "    \n",
    "    result = batch_extractor(images)\n",
    "\n",
    "    ma = Matcher(result)\n",
    "    \n",
    "    \n",
    "    for idx, im in enumerate(images):\n",
    "        print('Query image ==========================================')\n",
    "        plt.imshow(im)\n",
    "        plt.show()\n",
    "\n",
    "        names, match = ma.match(im, topn=19)\n",
    "        print('Result images ========================================')\n",
    "        for i in range(len(images)-1):\n",
    "            # we got cosine distance, less cosine distance between vectors\n",
    "            # more they similar, thus we subtruct it from 1 to get match value\n",
    "            if i != idx:\n",
    "                print('Match %s' % (1-match[i]))\n",
    "                #show_img(os.path.join(images_path, names[i]))\n",
    "                plt.imshow(images[i])\n",
    "                plt.show()\n",
    "\n",
    "run()"
   ]
  },
  {
   "cell_type": "code",
   "execution_count": 81,
   "metadata": {
    "scrolled": true
   },
   "outputs": [
    {
     "name": "stdout",
     "output_type": "stream",
     "text": [
      "[<KeyPoint 0x7fc75b703840>, <KeyPoint 0x7fc75b73e180>]\n",
      "[-3.82156342e-01 -4.04502600e-01  3.82156342e-01  4.04502600e-01\n",
      " -1.17090143e-01 -1.49436161e-01  1.17090158e-01  1.49448320e-01\n",
      " -4.18876996e-04 -1.21488539e-03  7.47043756e-04  1.24212261e-03\n",
      "  3.33948843e-02 -3.86159867e-02  3.33949216e-02  3.86162288e-02\n",
      " -1.16891041e-01 -1.04465246e-01  1.16945900e-01  1.04483254e-01\n",
      " -8.00898820e-02 -9.09448341e-02  2.10019633e-01  2.24935070e-01\n",
      " -3.47390585e-02  8.86452571e-02  8.45504776e-02  1.48460805e-01\n",
      "  5.36675118e-02 -4.91439104e-02  8.00553039e-02  7.54288062e-02\n",
      " -1.16040290e-03 -1.05322863e-03  2.13064835e-03  2.06549023e-03\n",
      "  6.41648695e-02 -4.55393344e-02  9.37741548e-02  8.27484205e-02\n",
      " -1.35536492e-02 -6.81546256e-02  1.37472570e-01  1.95315361e-01\n",
      " -2.56662983e-02  1.50939159e-03  4.60920073e-02  3.83142903e-02\n",
      "  1.27404463e-04  1.36510775e-04  7.22568482e-04  7.74214917e-04\n",
      "  1.16852787e-03 -3.46369739e-03  2.60595791e-03  3.77012882e-03\n",
      "  4.08092327e-03 -1.61199607e-02  7.18447939e-03  1.62736978e-02\n",
      "  4.81066154e-03 -5.98932290e-03  1.59583446e-02  1.56343710e-02\n",
      " -2.80113101e-01 -2.75626153e-01  2.80113101e-01  2.75626153e-01\n",
      " -6.53293431e-02 -8.01268518e-02  6.56526610e-02  8.24979097e-02\n",
      " -3.94436793e-04  1.45161373e-03  5.31489262e-04  2.19920557e-03\n",
      "  1.30104332e-03 -2.01636972e-03  1.34023651e-03  2.24673213e-03\n",
      " -9.75319147e-02 -7.62920827e-02  9.98746529e-02  7.65756816e-02\n",
      "  7.66080171e-02  6.76702857e-02  2.21358135e-01  2.24403888e-01\n",
      " -4.75533456e-02  1.79761171e-01  1.26150548e-01  3.20232540e-01\n",
      " -4.45259362e-02  6.83867037e-02  6.11517578e-02  9.85075831e-02\n",
      "  6.70627807e-04 -4.53789602e-04  1.84756389e-03  6.71468209e-04\n",
      "  1.76187053e-01 -1.06269166e-01  2.04085186e-01  1.65145412e-01\n",
      "  2.53789523e-03 -1.10338636e-01  2.23022848e-01  3.48417014e-01\n",
      " -7.58273751e-02 -2.40400825e-02  1.51375726e-01  1.37110859e-01\n",
      "  7.94211155e-05  7.11069151e-05  1.02913036e-04  9.89674882e-05\n",
      "  1.12281628e-02 -1.30696800e-02  1.14836926e-02  1.31977284e-02\n",
      "  1.19204605e-02 -5.82415760e-02  2.07306277e-02  7.29395747e-02\n",
      " -2.25976249e-03 -3.06835622e-02  2.03979071e-02  3.63695212e-02]\n",
      "128\n"
     ]
    },
    {
     "data": {
      "text/plain": [
       "array([-3.82156342e-01, -4.04502600e-01,  3.82156342e-01,  4.04502600e-01,\n",
       "       -1.17090143e-01, -1.49436161e-01,  1.17090158e-01,  1.49448320e-01,\n",
       "       -4.18876996e-04, -1.21488539e-03,  7.47043756e-04,  1.24212261e-03,\n",
       "        3.33948843e-02, -3.86159867e-02,  3.33949216e-02,  3.86162288e-02,\n",
       "       -1.16891041e-01, -1.04465246e-01,  1.16945900e-01,  1.04483254e-01,\n",
       "       -8.00898820e-02, -9.09448341e-02,  2.10019633e-01,  2.24935070e-01,\n",
       "       -3.47390585e-02,  8.86452571e-02,  8.45504776e-02,  1.48460805e-01,\n",
       "        5.36675118e-02, -4.91439104e-02,  8.00553039e-02,  7.54288062e-02,\n",
       "       -1.16040290e-03, -1.05322863e-03,  2.13064835e-03,  2.06549023e-03,\n",
       "        6.41648695e-02, -4.55393344e-02,  9.37741548e-02,  8.27484205e-02,\n",
       "       -1.35536492e-02, -6.81546256e-02,  1.37472570e-01,  1.95315361e-01,\n",
       "       -2.56662983e-02,  1.50939159e-03,  4.60920073e-02,  3.83142903e-02,\n",
       "        1.27404463e-04,  1.36510775e-04,  7.22568482e-04,  7.74214917e-04,\n",
       "        1.16852787e-03, -3.46369739e-03,  2.60595791e-03,  3.77012882e-03,\n",
       "        4.08092327e-03, -1.61199607e-02,  7.18447939e-03,  1.62736978e-02,\n",
       "        4.81066154e-03, -5.98932290e-03,  1.59583446e-02,  1.56343710e-02,\n",
       "       -2.80113101e-01, -2.75626153e-01,  2.80113101e-01,  2.75626153e-01,\n",
       "       -6.53293431e-02, -8.01268518e-02,  6.56526610e-02,  8.24979097e-02,\n",
       "       -3.94436793e-04,  1.45161373e-03,  5.31489262e-04,  2.19920557e-03,\n",
       "        1.30104332e-03, -2.01636972e-03,  1.34023651e-03,  2.24673213e-03,\n",
       "       -9.75319147e-02, -7.62920827e-02,  9.98746529e-02,  7.65756816e-02,\n",
       "        7.66080171e-02,  6.76702857e-02,  2.21358135e-01,  2.24403888e-01,\n",
       "       -4.75533456e-02,  1.79761171e-01,  1.26150548e-01,  3.20232540e-01,\n",
       "       -4.45259362e-02,  6.83867037e-02,  6.11517578e-02,  9.85075831e-02,\n",
       "        6.70627807e-04, -4.53789602e-04,  1.84756389e-03,  6.71468209e-04,\n",
       "        1.76187053e-01, -1.06269166e-01,  2.04085186e-01,  1.65145412e-01,\n",
       "        2.53789523e-03, -1.10338636e-01,  2.23022848e-01,  3.48417014e-01,\n",
       "       -7.58273751e-02, -2.40400825e-02,  1.51375726e-01,  1.37110859e-01,\n",
       "        7.94211155e-05,  7.11069151e-05,  1.02913036e-04,  9.89674882e-05,\n",
       "        1.12281628e-02, -1.30696800e-02,  1.14836926e-02,  1.31977284e-02,\n",
       "        1.19204605e-02, -5.82415760e-02,  2.07306277e-02,  7.29395747e-02,\n",
       "       -2.25976249e-03, -3.06835622e-02,  2.03979071e-02,  3.63695212e-02],\n",
       "      dtype=float32)"
      ]
     },
     "execution_count": 81,
     "metadata": {},
     "output_type": "execute_result"
    }
   ],
   "source": [
    "ef = extract_features(zeros_im[0])\n",
    "ef"
   ]
  },
  {
   "cell_type": "code",
   "execution_count": 20,
   "metadata": {},
   "outputs": [
    {
     "data": {
      "text/plain": [
       "2048"
      ]
     },
     "execution_count": 20,
     "metadata": {},
     "output_type": "execute_result"
    }
   ],
   "source": [
    "len(ef)"
   ]
  }
 ],
 "metadata": {
  "kernelspec": {
   "display_name": "Python 3",
   "language": "python",
   "name": "python3"
  },
  "language_info": {
   "codemirror_mode": {
    "name": "ipython",
    "version": 3
   },
   "file_extension": ".py",
   "mimetype": "text/x-python",
   "name": "python",
   "nbconvert_exporter": "python",
   "pygments_lexer": "ipython3",
   "version": "3.6.7"
  }
 },
 "nbformat": 4,
 "nbformat_minor": 2
}
